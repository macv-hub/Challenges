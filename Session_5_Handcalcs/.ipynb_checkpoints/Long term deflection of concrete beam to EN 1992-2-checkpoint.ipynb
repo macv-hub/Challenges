{
 "cells": [
  {
   "cell_type": "markdown",
   "id": "5a24c7d1",
   "metadata": {},
   "source": [
    "# Python module 'handcalcs' "
   ]
  },
  {
   "cell_type": "markdown",
   "id": "2da903b0",
   "metadata": {},
   "source": [
    "##### MCV - Session 5"
   ]
  },
  {
   "cell_type": "markdown",
   "id": "6aeac873",
   "metadata": {},
   "source": [
    "## Example"
   ]
  },
  {
   "cell_type": "markdown",
   "id": "1c086501",
   "metadata": {},
   "source": [
    "To install handcalcs open the anaconda prompt and type pip install handcalcs --user\n",
    "\n",
    "This is an example of how to use handcalcs to produce a report of the transformed section to calculate the stress on the concrete and bottom steel for fatigue analysis, short and long term deflection. You need the bending moment of the analysed section. \n",
    "\n",
    "Based on example 6.3 of Reinforced Concrete Design to Eurocode 2, Mosley et al.(2012)"
   ]
  },
  {
   "cell_type": "code",
   "execution_count": 1,
   "id": "d0c3eb29",
   "metadata": {},
   "outputs": [],
   "source": [
    "import handcalcs.render\n",
    "from math import sqrt"
   ]
  },
  {
   "attachments": {
    "Curvature.png": {
     "image/png": "[encoded data removed]"
    }
   },
   "cell_type": "markdown",
   "id": "493685f6",
   "metadata": {},
   "source": [
    "![Curvature.png](attachment:Curvature.png)"
   ]
  },
  {
   "cell_type": "markdown",
   "id": "e59d085e",
   "metadata": {},
   "source": [
    "### Triangular stress block - Cracked section\n",
    "\n",
    "We proceed to start our calculation by calculating the Elastic modulus of the concrete and steel:"
   ]
  },
  {
   "cell_type": "code",
   "execution_count": 2,
   "id": "f6a1ed8b",
   "metadata": {},
   "outputs": [
    {
     "data": {
      "text/latex": [
       "\\[\n",
       "\\begin{aligned}\n",
       "L &= 9500 \\; \\;\\textrm{(mm)}\n",
       " &b &= 300 \\; \\;\\textrm{(mm)}\n",
       " &d &= 600 \\; \\;\\textrm{(mm)}\n",
       "\\\\[10pt]\n",
       " h &= 700 \\; \\;\\textrm{(mm)}\n",
       " &A_{s} &= 2450 \\; \\;\\textrm{(mm2)}\n",
       " &f_{ck} &= 25 \\; \\;\\textrm{(MPa)}\n",
       "\\\\[10pt]\n",
       " f_{yk} &= 500 \\; \\;\\textrm{(MPa)}\n",
       " &E_{s} &= 200000 \\; \\;\\textrm{(MPa)}\\end{aligned}\n",
       "\\]"
      ],
      "text/plain": [
       "<IPython.core.display.Latex object>"
      ]
     },
     "metadata": {},
     "output_type": "display_data"
    }
   ],
   "source": [
    "%%render\n",
    "# Parameters\n",
    "L = 9500#mm\n",
    "b = 300#mm \n",
    "d = 600#mm\n",
    "h = 700#mm\n",
    "A_s = 490*5#mm2\n",
    "f_ck = 25#MPa \n",
    "f_yk = 500#MPa\n",
    "E_s = 200000 #MPa\n"
   ]
  },
  {
   "cell_type": "code",
   "execution_count": 3,
   "id": "6dc88635",
   "metadata": {},
   "outputs": [
    {
     "data": {
      "text/latex": [
       "\\[\n",
       "\\begin{aligned}\n",
       "\\epsilon_{y} &= \\frac{ f_{yk} }{ E_{s} }  = \\frac{ 500 }{ 200000 } &= 2.500 \\times 10 ^ {-3 }  \n",
       "\\\\[10pt]\n",
       "E_{cm} &= 22 \\cdot \\left( \\frac{ f_{ck} + 8 }{ 10 } \\right) ^{ 0.3 }  = 22 \\cdot \\left( \\frac{ 25 + 8 }{ 10 } \\right) ^{ 0.3 } &= 31.476 \\; \\;\\textrm{(GPa)}\n",
       "\\\\[10pt]\n",
       "A_{c} &= b \\cdot h  = 300 \\cdot 700 &= 210000 \\; \\;\\textrm{(mm2)}\n",
       "\\\\[10pt]\n",
       "u &= 2 \\cdot b + 2 \\cdot h  = 2 \\cdot 300 + 2 \\cdot 700 &= 2000 \\; \\;\\textrm{(mm)}\n",
       "\\\\[10pt]\n",
       "\\rho &= 2 \\cdot \\frac{ A_{c} }{ u }  = 2 \\cdot \\frac{ 210000 }{ 2000 } &= 210.0  \n",
       "\\\\[10pt]\n",
       "\\phi &= 2.8 \\; \n",
       "\\\\[10pt]\n",
       "E_{ceff} &= \\left( \\frac{ E_{cm} }{ 1 + \\phi } \\right) \\cdot \\left( 10 \\right) ^{ 3 }  = \\left( \\frac{ 31.476 }{ 1 + 2.8 } \\right) \\cdot \\left( 10 \\right) ^{ 3 } &= 8283.107 \\; \\;\\textrm{(MPa)}\n",
       "\\\\[10pt]\n",
       "\\alpha_{e} &= \\frac{ E_{s} }{ E_{ceff} }  = \\frac{ 200000 }{ 8283.107 } &= 24.146  \n",
       "\\\\[10pt]\n",
       "A_{cequ} &= \\alpha_{e} \\cdot A_{s}  = 24.146 \\cdot 2450 &= 59156.547 \\; \\;\\textrm{(mm2)}\n",
       "\\end{aligned}\n",
       "\\]"
      ],
      "text/plain": [
       "<IPython.core.display.Latex object>"
      ]
     },
     "metadata": {},
     "output_type": "display_data"
    }
   ],
   "source": [
    "%%render\n",
    "epsilon_y = f_yk/E_s\n",
    "E_cm = 22*((f_ck+8)/10)**0.3 # GPa\n",
    "A_c = b*h#mm2\n",
    "u = 2*b+2*h#mm\n",
    "rho = 2*A_c/u\n",
    "phi = 2.8\n",
    "E_ceff = (E_cm/(1+phi))*10**3 #MPa\n",
    "alpha_e = E_s/E_ceff\n",
    "A_cequ = alpha_e * A_s #mm2\n"
   ]
  },
  {
   "cell_type": "markdown",
   "id": "4966f71e",
   "metadata": {},
   "source": [
    "Then we proceed to calculate the equivalent area and location of neutral axis"
   ]
  },
  {
   "cell_type": "code",
   "execution_count": 4,
   "id": "0f956819",
   "metadata": {},
   "outputs": [
    {
     "data": {
      "text/latex": [
       "\\[\n",
       "\\begin{aligned}\n",
       "x_{cr} &= \\frac{ \\left( - \\alpha_{e} \\right) \\cdot A_{s} + \\sqrt { \\left( \\alpha_{e} \\cdot A_{s} \\right) ^{ 2 } + 2 \\cdot b \\cdot \\alpha_{e} \\cdot A_{s} \\cdot d } }{ b } \\\\&= \\frac{ \\left( - 24.146 \\right) \\cdot 2450 + \\sqrt { \\left( 24.146 \\cdot 2450 \\right) ^{ 2 } + 2 \\cdot 300 \\cdot 24.146 \\cdot 2450 \\cdot 600 } }{ 300 } \\\\&= 327.701 \\; \\;\\textrm{(mm)}\\\\\n",
       "\\end{aligned}\n",
       "\\]"
      ],
      "text/plain": [
       "<IPython.core.display.Latex object>"
      ]
     },
     "metadata": {},
     "output_type": "display_data"
    }
   ],
   "source": [
    "%%render\n",
    "# long\n",
    "x_cr = (-alpha_e*A_s+sqrt((alpha_e*A_s)**2 + 2*b*alpha_e*A_s*d))/b #mm"
   ]
  },
  {
   "cell_type": "code",
   "execution_count": 5,
   "id": "0345ebc6",
   "metadata": {},
   "outputs": [
    {
     "data": {
      "text/latex": [
       "\\[\n",
       "\\begin{aligned}\n",
       "M &= 200000000 \\; \\;\\textrm{(Nmm)}\n",
       "\\\\[10pt]\n",
       "f_{cc} &= 2 \\cdot \\frac{ M }{ b \\cdot x_{cr} \\cdot \\left( d - \\frac{ x_{cr} }{ 3 } \\right) }  = 2 \\cdot \\frac{ 200000000 }{ 300 \\cdot 327.701 \\cdot \\left( 600 - \\frac{ 327.701 }{ 3 } \\right) } &= 8.291 \\; \\;\\textrm{(MPa)}\n",
       "\\\\[10pt]\n",
       "f_{st} &= \\left( \\frac{ 1 }{ 2 } \\right) \\cdot b \\cdot x_{cr} \\cdot \\frac{ f_{cc} }{ A_{s} }  = \\left( \\frac{ 1 }{ 2 } \\right) \\cdot 300 \\cdot 327.701 \\cdot \\frac{ 8.291 }{ 2450 } &= 166.337 \\; \\;\\textrm{(MPa)}\n",
       "\\end{aligned}\n",
       "\\]"
      ],
      "text/plain": [
       "<IPython.core.display.Latex object>"
      ]
     },
     "metadata": {},
     "output_type": "display_data"
    }
   ],
   "source": [
    "%%render\n",
    "M = 200000000#Nmm\n",
    "f_cc = 2*M/(b*x_cr*(d-x_cr/3))#MPa\n",
    "f_st = (1/2)*b*x_cr*f_cc/A_s#MPa"
   ]
  },
  {
   "cell_type": "markdown",
   "id": "b7c2a7a8",
   "metadata": {},
   "source": [
    "### Curvature - Cracked"
   ]
  },
  {
   "cell_type": "code",
   "execution_count": 6,
   "id": "29cfb582",
   "metadata": {},
   "outputs": [
    {
     "data": {
      "text/latex": [
       "\\[\n",
       "\\begin{aligned}\n",
       "I_{cr} &= \\frac{ b \\cdot \\left( x_{cr} \\right) ^{ 3 } }{ 3 } + \\alpha_{e} \\cdot A_{s} \\cdot \\left( d - x_{cr} \\right) ^{ 2 } \\\\&= \\frac{ 300 \\cdot \\left( 327.701 \\right) ^{ 3 } }{ 3 } + 24.146 \\cdot 2450 \\cdot \\left( 600 - 327.701 \\right) ^{ 2 } \\\\&= 7905379116.555 \\; \\;\\textrm{(mm4)}\\\\\n",
       "\\\\[10pt]\n",
       "k_{cr} &= \\frac{ M }{ E_{ceff} \\cdot I_{cr} } \\\\&= \\frac{ 200000000 }{ 8283.107 \\cdot 7905379116.555 } \\\\&= 3.054 \\times 10 ^ {-6 } \\; \\;\\textrm{(/mm)}\\\\\n",
       "\\end{aligned}\n",
       "\\]"
      ],
      "text/plain": [
       "<IPython.core.display.Latex object>"
      ]
     },
     "metadata": {},
     "output_type": "display_data"
    }
   ],
   "source": [
    "%%render\n",
    "# long\n",
    "I_cr = (b*x_cr**3)/3+alpha_e*A_s*(d-x_cr)**2#mm4\n",
    "k_cr = M/(E_ceff*I_cr)#/mm"
   ]
  },
  {
   "cell_type": "markdown",
   "id": "6e2f8df7",
   "metadata": {},
   "source": [
    "### Triangular stress block - Uncracked section"
   ]
  },
  {
   "cell_type": "code",
   "execution_count": 7,
   "id": "caedcdbc",
   "metadata": {},
   "outputs": [
    {
     "data": {
      "text/latex": [
       "\\[\n",
       "\\begin{aligned}\n",
       "f_{ct} &= 2.6 \\; \\;\\textrm{(MPa)}\n",
       "\\\\[10pt]\n",
       "r &= \\frac{ A_{s} }{ b \\cdot h }  = \\frac{ 2450 }{ 300 \\cdot 700 } &= 1.167 \\times 10 ^ {-2 } \\; \\;\\textrm{(1)}\n",
       "\\\\[10pt]\n",
       "x_{uc} &= \\frac{ h + 2 \\cdot \\alpha_{e} \\cdot r \\cdot d }{ 2 + 2 \\cdot \\alpha_{e} \\cdot r }  = \\frac{ 700 + 2 \\cdot 24.146 \\cdot 1.167 \\times 10 ^ {-2 } \\cdot 600 }{ 2 + 2 \\cdot 24.146 \\cdot 1.167 \\times 10 ^ {-2 } } &= 404.946 \\; \\;\\textrm{(mm)}\n",
       "\\\\[10pt]\n",
       "f_{st} &= \\left( \\frac{ d - x_{uc} }{ h - x_{uc} } \\right) \\cdot \\alpha_{e} \\cdot f_{ct}  = \\left( \\frac{ 600 - 404.946 }{ 700 - 404.946 } \\right) \\cdot 24.146 \\cdot 2.6 &= 41.501 \\; \\;\\textrm{(MPa)}\n",
       "\\end{aligned}\n",
       "\\]"
      ],
      "text/plain": [
       "<IPython.core.display.Latex object>"
      ]
     },
     "metadata": {},
     "output_type": "display_data"
    }
   ],
   "source": [
    "%%render\n",
    "f_ct = 2.6 #MPa\n",
    "r = A_s/(b*h)#1\n",
    "x_uc = (h+2*alpha_e*r*d)/(2+2*alpha_e*r)#mm\n",
    "f_st = ((d-x_uc)/(h-x_uc))*alpha_e*f_ct#MPa"
   ]
  },
  {
   "cell_type": "code",
   "execution_count": 8,
   "id": "99f59e1d",
   "metadata": {},
   "outputs": [
    {
     "data": {
      "text/latex": [
       "\\[\n",
       "\\begin{aligned}\n",
       "M_{cr} &= A_{s} \\cdot f_{st} \\cdot \\left( d - \\frac{ x_{uc} }{ 3 } \\right) + \\left( \\frac{ 1 }{ 2 } \\right) \\cdot b \\cdot \\left( h - x_{uc} \\right) \\cdot f_{ct} \\cdot \\left( \\left( \\frac{ 2 }{ 3 } \\right) \\cdot x_{uc} + \\left( \\frac{ 2 }{ 3 } \\right) \\cdot \\left( h - x_{uc} \\right) \\right) \\; \n",
       "\\end{aligned}\n",
       "\\]"
      ],
      "text/plain": [
       "<IPython.core.display.Latex object>"
      ]
     },
     "metadata": {},
     "output_type": "display_data"
    }
   ],
   "source": [
    "%%render\n",
    "# Symbolic\n",
    "M_cr = A_s*f_st*(d-x_uc/3)+(1/2)*b*(h-x_uc)*f_ct*((2/3)*x_uc+(2/3)*(h-x_uc))"
   ]
  },
  {
   "cell_type": "code",
   "execution_count": 9,
   "id": "18866ac2",
   "metadata": {},
   "outputs": [
    {
     "data": {
      "text/latex": [
       "\\[\n",
       "\\begin{aligned}\n",
       "M_{cr} &= 100982135.048 \\; \\;\\textrm{(Nmm)}\\end{aligned}\n",
       "\\]"
      ],
      "text/plain": [
       "<IPython.core.display.Latex object>"
      ]
     },
     "metadata": {},
     "output_type": "display_data"
    }
   ],
   "source": [
    "%%render\n",
    "# Parameters\n",
    "M_cr = (A_s*f_st*(d-x_uc/3)+(1/2)*b*(h-x_uc)*f_ct*((2/3)*x_uc+(2/3)*(h-x_uc)))#Nmm"
   ]
  },
  {
   "cell_type": "markdown",
   "id": "095ee64b",
   "metadata": {},
   "source": [
    "### Curvature Uncracked"
   ]
  },
  {
   "cell_type": "code",
   "execution_count": 10,
   "id": "24f76808",
   "metadata": {},
   "outputs": [
    {
     "data": {
      "text/latex": [
       "\\[\n",
       "\\begin{aligned}\n",
       "I_{uc} &= b \\cdot \\frac{ \\left( h \\right) ^{ 3 } }{ 12 } + \\alpha_{e} \\cdot A_{s} \\cdot \\left( d - x_{uc} \\right) ^{ 2 } \\\\&= 300 \\cdot \\frac{ \\left( 700 \\right) ^{ 3 } }{ 12 } + 24.146 \\cdot 2450 \\cdot \\left( 600 - 404.946 \\right) ^{ 2 } \\\\&= 10825668462.379 \\; \\;\\textrm{(mm4)}\\\\\n",
       "\\\\[10pt]\n",
       "k_{uc} &= \\frac{ M_{cr} }{ E_{ceff} \\cdot I_{uc} } \\\\&= \\frac{ 100982135.048 }{ 8283.107 \\cdot 10825668462.379 } \\\\&= 1.126 \\times 10 ^ {-6 } \\; \\;\\textrm{(/mm)}\\\\\n",
       "\\end{aligned}\n",
       "\\]"
      ],
      "text/plain": [
       "<IPython.core.display.Latex object>"
      ]
     },
     "metadata": {},
     "output_type": "display_data"
    }
   ],
   "source": [
    "%%render\n",
    "# long\n",
    "I_uc = b*h**3/12+alpha_e*A_s*(d-x_uc)**2#mm4\n",
    "k_uc = M_cr/(E_ceff*I_uc)#/mm"
   ]
  },
  {
   "cell_type": "markdown",
   "id": "2c7ed9f2",
   "metadata": {},
   "source": [
    "###  Average curvature"
   ]
  },
  {
   "cell_type": "code",
   "execution_count": 11,
   "id": "96b98408",
   "metadata": {},
   "outputs": [
    {
     "data": {
      "text/latex": [
       "\\[\n",
       "\\begin{aligned}\n",
       "\\beta &= 0.5 \\; \\;\\textrm{((0.5 for sustained or cyclic loading and 1 for single short-term load))}\n",
       "\\\\[10pt]\n",
       "\\xi &= 1 - \\beta \\cdot \\left( \\frac{ M_{cr} }{ M } \\right) ^{ 2 } \\\\&= 1 - 0.5 \\cdot \\left( \\frac{ 100982135.048 }{ 200000000 } \\right) ^{ 2 } \\\\&= 8.725 \\times 10 ^ {-1 }  \\\\\n",
       "\\\\[10pt]\n",
       "k_{av} &= \\xi \\cdot k_{cr} + \\left( 1 - \\xi \\right) \\cdot k_{uc} \\\\&= 8.725 \\times 10 ^ {-1 } \\cdot 3.054 \\times 10 ^ {-6 } + \\left( 1 - 8.725 \\times 10 ^ {-1 } \\right) \\cdot 1.126 \\times 10 ^ {-6 } \\\\&= 2.809 \\times 10 ^ {-6 } \\; \\;\\textrm{(/mm)}\\\\\n",
       "\\end{aligned}\n",
       "\\]"
      ],
      "text/plain": [
       "<IPython.core.display.Latex object>"
      ]
     },
     "metadata": {},
     "output_type": "display_data"
    }
   ],
   "source": [
    "%%render\n",
    "# long\n",
    "beta = 0.5#(0.5 for sustained or cyclic loading and 1 for single short-term load)\n",
    "xi = 1 - beta*(M_cr/M)**2\n",
    "k_av = xi*k_cr+(1-xi)*k_uc#/mm"
   ]
  },
  {
   "cell_type": "markdown",
   "id": "ebcc8f22",
   "metadata": {},
   "source": [
    "### Shrinkage curvature - Cracked section"
   ]
  },
  {
   "cell_type": "code",
   "execution_count": 12,
   "id": "f2de4a43",
   "metadata": {},
   "outputs": [
    {
     "data": {
      "text/latex": [
       "\\[\n",
       "\\begin{aligned}\n",
       "\\epsilon_{cs} &= 470 \\cdot \\left( 10 \\right) ^{ -6 } &= 4.700 \\times 10 ^ {-4 }  \n",
       "\\\\[10pt]\n",
       "S &= A_{s} \\cdot \\left( d - x_{cr} \\right)  = 2450 \\cdot \\left( 600 - 327.701 \\right) &= 667131.357  \n",
       "\\\\[10pt]\n",
       "k_{cscr} &= \\epsilon_{cs} \\cdot \\alpha_{e} \\cdot \\frac{ S }{ I_{cr} }  = 4.700 \\times 10 ^ {-4 } \\cdot 24.146 \\cdot \\frac{ 667131.357 }{ 7905379116.555 } &= 9.577 \\times 10 ^ {-7 } \\; \\;\\textrm{(/mm)}\n",
       "\\end{aligned}\n",
       "\\]"
      ],
      "text/plain": [
       "<IPython.core.display.Latex object>"
      ]
     },
     "metadata": {},
     "output_type": "display_data"
    }
   ],
   "source": [
    "%%render\n",
    "epsilon_cs = 470*10**-6\n",
    "S = A_s*(d-x_cr)\n",
    "k_cscr = epsilon_cs*alpha_e*S/I_cr#/mm"
   ]
  },
  {
   "cell_type": "markdown",
   "id": "8d4a3ee1",
   "metadata": {},
   "source": [
    "### Shrinkage curvature - Uncracked section"
   ]
  },
  {
   "cell_type": "code",
   "execution_count": 13,
   "id": "030610f3",
   "metadata": {},
   "outputs": [
    {
     "data": {
      "text/latex": [
       "\\[\n",
       "\\begin{aligned}\n",
       "S &= A_{s} \\cdot \\left( d - x_{uc} \\right)  = 2450 \\cdot \\left( 600 - 404.946 \\right) &= 477881.744  \n",
       "\\\\[10pt]\n",
       "k_{csuc} &= \\epsilon_{cs} \\cdot \\alpha_{e} \\cdot \\frac{ S }{ I_{uc} }  = 4.700 \\times 10 ^ {-4 } \\cdot 24.146 \\cdot \\frac{ 477881.744 }{ 10825668462.379 } &= 5.010 \\times 10 ^ {-7 } \\; \\;\\textrm{(/mm)}\n",
       "\\end{aligned}\n",
       "\\]"
      ],
      "text/plain": [
       "<IPython.core.display.Latex object>"
      ]
     },
     "metadata": {},
     "output_type": "display_data"
    }
   ],
   "source": [
    "%%render\n",
    "S = A_s*(d-x_uc)\n",
    "k_csuc = epsilon_cs*alpha_e*S/I_uc#/mm"
   ]
  },
  {
   "cell_type": "markdown",
   "id": "24454845",
   "metadata": {},
   "source": [
    "### Shrinkage average curvature"
   ]
  },
  {
   "cell_type": "code",
   "execution_count": 14,
   "id": "25035fc8",
   "metadata": {},
   "outputs": [
    {
     "data": {
      "text/latex": [
       "\\[\n",
       "\\begin{aligned}\n",
       "k_{csav} &= \\xi \\cdot k_{cscr} + \\left( 1 - \\xi \\right) \\cdot k_{csuc} \\\\&= 8.725 \\times 10 ^ {-1 } \\cdot 9.577 \\times 10 ^ {-7 } + \\left( 1 - 8.725 \\times 10 ^ {-1 } \\right) \\cdot 5.010 \\times 10 ^ {-7 } \\\\&= 8.995 \\times 10 ^ {-7 } \\; \\;\\textrm{(/mm)}\\\\\n",
       "\\end{aligned}\n",
       "\\]"
      ],
      "text/plain": [
       "<IPython.core.display.Latex object>"
      ]
     },
     "metadata": {},
     "output_type": "display_data"
    }
   ],
   "source": [
    "%%render\n",
    "k_csav = xi*k_cscr+(1-xi)*k_csuc#/mm"
   ]
  },
  {
   "cell_type": "markdown",
   "id": "086e806b",
   "metadata": {},
   "source": [
    "### Deflection"
   ]
  },
  {
   "cell_type": "code",
   "execution_count": 15,
   "id": "7148cefd",
   "metadata": {},
   "outputs": [
    {
     "data": {
      "text/latex": [
       "\\[\n",
       "\\begin{aligned}\n",
       "k_{total} &= k_{av} + k_{csav}  = 2.809 \\times 10 ^ {-6 } + 8.995 \\times 10 ^ {-7 } &= 3.708 \\times 10 ^ {-6 } \\; \\;\\textrm{(/mm)}\n",
       "\\\\[10pt]\n",
       "\\Delta &= 0.104 \\cdot \\left( L \\right) ^{ 2 } \\cdot k_{total}  = 0.104 \\cdot \\left( 9500 \\right) ^{ 2 } \\cdot 3.708 \\times 10 ^ {-6 } &= 34.803 \\; \\;\\textrm{(mm)}\n",
       "\\\\[10pt]\n",
       "\\Delta_{limit} &= \\frac{ L }{ 250 }  = \\frac{ 9500 }{ 250 } &= 38.0 \\; \\;\\textrm{(mm)}\n",
       "\\end{aligned}\n",
       "\\]"
      ],
      "text/plain": [
       "<IPython.core.display.Latex object>"
      ]
     },
     "metadata": {},
     "output_type": "display_data"
    }
   ],
   "source": [
    "%%render\n",
    "k_total = k_av+k_csav#/mm\n",
    "Delta = 0.104*L**2*k_total #mm\n",
    "Delta_limit = L/250 #mm"
   ]
  }
 ],
 "metadata": {
  "kernelspec": {
   "display_name": "Python 3",
   "language": "python",
   "name": "python3"
  },
  "language_info": {
   "codemirror_mode": {
    "name": "ipython",
    "version": 3
   },
   "file_extension": ".py",
   "mimetype": "text/x-python",
   "name": "python",
   "nbconvert_exporter": "python",
   "pygments_lexer": "ipython3",
   "version": "3.9.2"
  }
 },
 "nbformat": 4,
 "nbformat_minor": 5
}
