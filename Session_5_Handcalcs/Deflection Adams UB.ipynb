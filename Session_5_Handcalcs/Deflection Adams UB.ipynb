{
 "cells": [
  {
   "cell_type": "markdown",
   "id": "5a24c7d1",
   "metadata": {},
   "source": [
    "# Adams Accommodation Underbridge"
   ]
  },
  {
   "cell_type": "markdown",
   "id": "2da903b0",
   "metadata": {},
   "source": [
    "##### MCV"
   ]
  },
  {
   "cell_type": "markdown",
   "id": "6aeac873",
   "metadata": {},
   "source": [
    "## Maximum vertical deflection"
   ]
  },
  {
   "cell_type": "code",
   "execution_count": 1,
   "id": "d0c3eb29",
   "metadata": {},
   "outputs": [],
   "source": [
    "import handcalcs.render\n",
    "from math import sqrt"
   ]
  },
  {
   "cell_type": "markdown",
   "id": "493685f6",
   "metadata": {},
   "source": [
    "<img src=\"Curvature1.png\" style=\"width:480px;height:270px\"/>"
   ]
  },
  {
   "cell_type": "markdown",
   "id": "e59d085e",
   "metadata": {},
   "source": [
    "### Triangular stress block - Cracked section\n",
    "\n",
    "We proceed to start our calculation by calculating the Elastic modulus of the concrete and steel:"
   ]
  },
  {
   "cell_type": "code",
   "execution_count": 2,
   "id": "f6a1ed8b",
   "metadata": {},
   "outputs": [
    {
     "data": {
      "text/latex": [
       "\\[\n",
       "\\begin{aligned}\n",
       "L &= 6300 \\; \\;\\textrm{(mm)}\n",
       " &b &= 4000 \\; \\;\\textrm{(mm)}\n",
       " &d &= 500 \\; \\;\\textrm{(mm)}\n",
       "\\\\[10pt]\n",
       " h &= 600 \\; \\;\\textrm{(mm)}\n",
       " &A_{s} &= 11760 \\; \\;\\textrm{(mm2)}\n",
       " &f_{ck} &= 40 \\; \\;\\textrm{(MPa)}\n",
       "\\\\[10pt]\n",
       " f_{yk} &= 500 \\; \\;\\textrm{(MPa)}\n",
       " &E_{s} &= 200000 \\; \\;\\textrm{(MPa)}\\end{aligned}\n",
       "\\]"
      ],
      "text/plain": [
       "<IPython.core.display.Latex object>"
      ]
     },
     "metadata": {},
     "output_type": "display_data"
    }
   ],
   "source": [
    "%%render\n",
    "# Parameters\n",
    "L = 6300#mm\n",
    "b = 4000#mm \n",
    "d = 500#mm\n",
    "h = 600#mm\n",
    "A_s = 490*6*4#mm2\n",
    "f_ck = 40#MPa \n",
    "f_yk = 500#MPa\n",
    "E_s = 200000 #MPa\n"
   ]
  },
  {
   "cell_type": "code",
   "execution_count": 3,
   "id": "6dc88635",
   "metadata": {},
   "outputs": [
    {
     "data": {
      "text/latex": [
       "\\[\n",
       "\\begin{aligned}\n",
       "\\epsilon_{y} &= \\frac{ f_{yk} }{ E_{s} }  = \\frac{ 500 }{ 200000 } &= 2.500 \\times 10 ^ {-3 }  \n",
       "\\\\[10pt]\n",
       "E_{cm} &= 22 \\cdot \\left( \\frac{ f_{ck} + 8 }{ 10 } \\right) ^{ 0.3 }  = 22 \\cdot \\left( \\frac{ 40 + 8 }{ 10 } \\right) ^{ 0.3 } &= 35.22 \\; \\;\\textrm{(GPa)}\n",
       "\\\\[10pt]\n",
       "A_{c} &= b \\cdot h  = 4000 \\cdot 600 &= 2400000 \\; \\;\\textrm{(mm2)}\n",
       "\\\\[10pt]\n",
       "u &= 2 \\cdot b  = 2 \\cdot 4000 &= 8000 \\; \\;\\textrm{(mm)}\n",
       "\\\\[10pt]\n",
       "\\rho &= 2 \\cdot \\frac{ A_{c} }{ u }  = 2 \\cdot \\frac{ 2400000 }{ 8000 } &= 600.0  \n",
       "\\\\[10pt]\n",
       "\\phi &= 2.8 \\; \n",
       "\\\\[10pt]\n",
       "E_{ceff} &= \\left( \\frac{ E_{cm} }{ 1 + \\phi } \\right) \\cdot \\left( 10 \\right) ^{ 3 }  = \\left( \\frac{ 35.22 }{ 1 + 2.8 } \\right) \\cdot \\left( 10 \\right) ^{ 3 } &= 9268.543 \\; \\;\\textrm{(MPa)}\n",
       "\\\\[10pt]\n",
       "\\alpha_{e} &= \\frac{ E_{s} }{ E_{ceff} }  = \\frac{ 200000 }{ 9268.543 } &= 21.578  \n",
       "\\\\[10pt]\n",
       "A_{cequ} &= \\alpha_{e} \\cdot A_{s}  = 21.578 \\cdot 11760 &= 253761.575 \\; \\;\\textrm{(mm2)}\n",
       "\\end{aligned}\n",
       "\\]"
      ],
      "text/plain": [
       "<IPython.core.display.Latex object>"
      ]
     },
     "metadata": {},
     "output_type": "display_data"
    }
   ],
   "source": [
    "%%render\n",
    "epsilon_y = f_yk/E_s\n",
    "E_cm = 22*((f_ck+8)/10)**0.3 # GPa\n",
    "A_c = b*h#mm2\n",
    "u = 2*b#mm\n",
    "rho = 2*A_c/u\n",
    "phi = 2.8\n",
    "E_ceff = (E_cm/(1+phi))*10**3 #MPa\n",
    "alpha_e = E_s/E_ceff\n",
    "A_cequ = alpha_e * A_s #mm2\n"
   ]
  },
  {
   "cell_type": "markdown",
   "id": "4966f71e",
   "metadata": {},
   "source": [
    "Then we proceed to calculate the equivalent area and location of neutral axis"
   ]
  },
  {
   "cell_type": "code",
   "execution_count": 4,
   "id": "0f956819",
   "metadata": {},
   "outputs": [
    {
     "data": {
      "text/latex": [
       "\\[\n",
       "\\begin{aligned}\n",
       "x_{cr} &= \\frac{ \\left( - \\alpha_{e} \\right) \\cdot A_{s} + \\sqrt { \\left( \\alpha_{e} \\cdot A_{s} \\right) ^{ 2 } + 2 \\cdot b \\cdot \\alpha_{e} \\cdot A_{s} \\cdot d } }{ b } \\\\&= \\frac{ \\left( - 21.578 \\right) \\cdot 11760 + \\sqrt { \\left( 21.578 \\cdot 11760 \\right) ^{ 2 } + 2 \\cdot 4000 \\cdot 21.578 \\cdot 11760 \\cdot 500 } }{ 4000 } \\\\&= 196.3 \\; \\;\\textrm{(mm)}\\\\\n",
       "\\end{aligned}\n",
       "\\]"
      ],
      "text/plain": [
       "<IPython.core.display.Latex object>"
      ]
     },
     "metadata": {},
     "output_type": "display_data"
    }
   ],
   "source": [
    "%%render\n",
    "# long\n",
    "x_cr = (-alpha_e*A_s+sqrt((alpha_e*A_s)**2 + 2*b*alpha_e*A_s*d))/b #mm"
   ]
  },
  {
   "cell_type": "code",
   "execution_count": 5,
   "id": "0345ebc6",
   "metadata": {},
   "outputs": [
    {
     "data": {
      "text/latex": [
       "\\[\n",
       "\\begin{aligned}\n",
       "M &= 529200000 \\; \\;\\textrm{(Nmm WL2/24)}\n",
       "\\\\[10pt]\n",
       "f_{cc} &= 2 \\cdot \\frac{ M }{ b \\cdot x_{cr} \\cdot \\left( d - \\frac{ x_{cr} }{ 3 } \\right) }  = 2 \\cdot \\frac{ 529200000 }{ 4000 \\cdot 196.3 \\cdot \\left( 500 - \\frac{ 196.3 }{ 3 } \\right) } &= 3.102 \\; \\;\\textrm{(MPa)}\n",
       "\\\\[10pt]\n",
       "f_{st} &= \\left( \\frac{ 1 }{ 2 } \\right) \\cdot b \\cdot x_{cr} \\cdot \\frac{ f_{cc} }{ A_{s} }  = \\left( \\frac{ 1 }{ 2 } \\right) \\cdot 4000 \\cdot 196.3 \\cdot \\frac{ 3.102 }{ 11760 } &= 103.551 \\; \\;\\textrm{(MPa)}\n",
       "\\end{aligned}\n",
       "\\]"
      ],
      "text/plain": [
       "<IPython.core.display.Latex object>"
      ]
     },
     "metadata": {},
     "output_type": "display_data"
    }
   ],
   "source": [
    "%%render\n",
    "M = 529200000#Nmm WL2/24\n",
    "f_cc = 2*M/(b*x_cr*(d-x_cr/3))#MPa\n",
    "f_st = (1/2)*b*x_cr*f_cc/A_s#MPa"
   ]
  },
  {
   "cell_type": "markdown",
   "id": "b7c2a7a8",
   "metadata": {},
   "source": [
    "#### Curvature - Cracked"
   ]
  },
  {
   "cell_type": "code",
   "execution_count": 6,
   "id": "29cfb582",
   "metadata": {},
   "outputs": [
    {
     "data": {
      "text/latex": [
       "\\[\n",
       "\\begin{aligned}\n",
       "I_{cr} &= \\frac{ b \\cdot \\left( x_{cr} \\right) ^{ 3 } }{ 3 } + \\alpha_{e} \\cdot A_{s} \\cdot \\left( d - x_{cr} \\right) ^{ 2 } \\\\&= \\frac{ 4000 \\cdot \\left( 196.3 \\right) ^{ 3 } }{ 3 } + 21.578 \\cdot 11760 \\cdot \\left( 500 - 196.3 \\right) ^{ 2 } \\\\&= 33490917617.183 \\; \\;\\textrm{(mm4)}\\\\\n",
       "\\\\[10pt]\n",
       "k_{cr} &= \\frac{ M }{ E_{ceff} \\cdot I_{cr} } \\\\&= \\frac{ 529200000 }{ 9268.543 \\cdot 33490917617.183 } \\\\&= 1.705 \\times 10 ^ {-6 } \\; \\;\\textrm{(/mm)}\\\\\n",
       "\\end{aligned}\n",
       "\\]"
      ],
      "text/plain": [
       "<IPython.core.display.Latex object>"
      ]
     },
     "metadata": {},
     "output_type": "display_data"
    }
   ],
   "source": [
    "%%render\n",
    "# long\n",
    "I_cr = (b*x_cr**3)/3+alpha_e*A_s*(d-x_cr)**2#mm4\n",
    "k_cr = M/(E_ceff*I_cr)#/mm"
   ]
  },
  {
   "cell_type": "markdown",
   "id": "6e2f8df7",
   "metadata": {},
   "source": [
    "### Triangular stress block - Uncracked section"
   ]
  },
  {
   "cell_type": "code",
   "execution_count": 7,
   "id": "caedcdbc",
   "metadata": {},
   "outputs": [
    {
     "data": {
      "text/latex": [
       "\\[\n",
       "\\begin{aligned}\n",
       "f_{ct} &= 2.6 \\; \\;\\textrm{(MPa)}\n",
       "\\\\[10pt]\n",
       "r &= \\frac{ A_{s} }{ b \\cdot h }  = \\frac{ 11760 }{ 4000 \\cdot 600 } &= 4.900 \\times 10 ^ {-3 } \\; \\;\\textrm{(1)}\n",
       "\\\\[10pt]\n",
       "x_{uc} &= \\frac{ h + 2 \\cdot \\alpha_{e} \\cdot r \\cdot d }{ 2 + 2 \\cdot \\alpha_{e} \\cdot r }  = \\frac{ 600 + 2 \\cdot 21.578 \\cdot 4.900 \\times 10 ^ {-3 } \\cdot 500 }{ 2 + 2 \\cdot 21.578 \\cdot 4.900 \\times 10 ^ {-3 } } &= 319.125 \\; \\;\\textrm{(mm)}\n",
       "\\\\[10pt]\n",
       "f_{st} &= \\left( \\frac{ d - x_{uc} }{ h - x_{uc} } \\right) \\cdot \\alpha_{e} \\cdot f_{ct}  = \\left( \\frac{ 500 - 319.125 }{ 600 - 319.125 } \\right) \\cdot 21.578 \\cdot 2.6 &= 36.129 \\; \\;\\textrm{(MPa)}\n",
       "\\end{aligned}\n",
       "\\]"
      ],
      "text/plain": [
       "<IPython.core.display.Latex object>"
      ]
     },
     "metadata": {},
     "output_type": "display_data"
    }
   ],
   "source": [
    "%%render\n",
    "f_ct = 2.6 #MPa\n",
    "r = A_s/(b*h)#1\n",
    "x_uc = (h+2*alpha_e*r*d)/(2+2*alpha_e*r)#mm\n",
    "f_st = ((d-x_uc)/(h-x_uc))*alpha_e*f_ct#MPa"
   ]
  },
  {
   "cell_type": "code",
   "execution_count": 8,
   "id": "99f59e1d",
   "metadata": {},
   "outputs": [
    {
     "data": {
      "text/latex": [
       "\\[\n",
       "\\begin{aligned}\n",
       "M_{cr} &= A_{s} \\cdot f_{st} \\cdot \\left( d - \\frac{ x_{uc} }{ 3 } \\right) + \\left( \\frac{ 1 }{ 2 } \\right) \\cdot b \\cdot \\left( h - x_{uc} \\right) \\cdot f_{ct} \\cdot \\left( \\left( \\frac{ 2 }{ 3 } \\right) \\cdot x_{uc} + \\left( \\frac{ 2 }{ 3 } \\right) \\cdot \\left( h - x_{uc} \\right) \\right) \\; \n",
       "\\end{aligned}\n",
       "\\]"
      ],
      "text/plain": [
       "<IPython.core.display.Latex object>"
      ]
     },
     "metadata": {},
     "output_type": "display_data"
    }
   ],
   "source": [
    "%%render\n",
    "# Symbolic\n",
    "M_cr = A_s*f_st*(d-x_uc/3)+(1/2)*b*(h-x_uc)*f_ct*((2/3)*x_uc+(2/3)*(h-x_uc))"
   ]
  },
  {
   "cell_type": "code",
   "execution_count": 9,
   "id": "18866ac2",
   "metadata": {},
   "outputs": [
    {
     "data": {
      "text/latex": [
       "\\[\n",
       "\\begin{aligned}\n",
       "M_{cr} &= 751463607.337 \\; \\;\\textrm{(Nmm)}\\end{aligned}\n",
       "\\]"
      ],
      "text/plain": [
       "<IPython.core.display.Latex object>"
      ]
     },
     "metadata": {},
     "output_type": "display_data"
    }
   ],
   "source": [
    "%%render\n",
    "# Parameters\n",
    "M_cr = (A_s*f_st*(d-x_uc/3)+(1/2)*b*(h-x_uc)*f_ct*((2/3)*x_uc+(2/3)*(h-x_uc)))#Nmm"
   ]
  },
  {
   "cell_type": "markdown",
   "id": "095ee64b",
   "metadata": {},
   "source": [
    "#### Curvature Uncracked"
   ]
  },
  {
   "cell_type": "code",
   "execution_count": 10,
   "id": "24f76808",
   "metadata": {},
   "outputs": [
    {
     "data": {
      "text/latex": [
       "\\[\n",
       "\\begin{aligned}\n",
       "I_{uc} &= b \\cdot \\frac{ \\left( h \\right) ^{ 3 } }{ 12 } + \\alpha_{e} \\cdot A_{s} \\cdot \\left( d - x_{uc} \\right) ^{ 2 } \\\\&= 4000 \\cdot \\frac{ \\left( 600 \\right) ^{ 3 } }{ 12 } + 21.578 \\cdot 11760 \\cdot \\left( 500 - 319.125 \\right) ^{ 2 } \\\\&= 80302034497.374 \\; \\;\\textrm{(mm4)}\\\\\n",
       "\\\\[10pt]\n",
       "k_{uc} &= \\frac{ M_{cr} }{ E_{ceff} \\cdot I_{uc} } \\\\&= \\frac{ 751463607.337 }{ 9268.543 \\cdot 80302034497.374 } \\\\&= 1.010 \\times 10 ^ {-6 } \\; \\;\\textrm{(/mm)}\\\\\n",
       "\\end{aligned}\n",
       "\\]"
      ],
      "text/plain": [
       "<IPython.core.display.Latex object>"
      ]
     },
     "metadata": {},
     "output_type": "display_data"
    }
   ],
   "source": [
    "%%render\n",
    "# long\n",
    "I_uc = b*h**3/12+alpha_e*A_s*(d-x_uc)**2#mm4\n",
    "k_uc = M_cr/(E_ceff*I_uc)#/mm"
   ]
  },
  {
   "cell_type": "markdown",
   "id": "2c7ed9f2",
   "metadata": {},
   "source": [
    "###  Average curvature"
   ]
  },
  {
   "cell_type": "code",
   "execution_count": 11,
   "id": "96b98408",
   "metadata": {},
   "outputs": [
    {
     "data": {
      "text/latex": [
       "\\[\n",
       "\\begin{aligned}\n",
       "\\beta &= 0.5 \\; \\;\\textrm{((0.5 for sustained or cyclic loading and 1 for single short-term load))}\n",
       "\\\\[10pt]\n",
       "\\xi &= 1 - \\beta \\cdot \\left( \\frac{ M_{cr} }{ M } \\right) ^{ 2 } \\\\&= 1 - 0.5 \\cdot \\left( \\frac{ 751463607.337 }{ 529200000 } \\right) ^{ 2 } \\\\&= -8.199 \\times 10 ^ {-3 }  \\\\\n",
       "\\\\[10pt]\n",
       "k_{av} &= \\xi \\cdot k_{cr} + \\left( 1 - \\xi \\right) \\cdot k_{uc} \\\\&= -8.199 \\times 10 ^ {-3 } \\cdot 1.705 \\times 10 ^ {-6 } + \\left( 1 - -8.199 \\times 10 ^ {-3 } \\right) \\cdot 1.010 \\times 10 ^ {-6 } \\\\&= 1.004 \\times 10 ^ {-6 } \\; \\;\\textrm{(/mm)}\\\\\n",
       "\\end{aligned}\n",
       "\\]"
      ],
      "text/plain": [
       "<IPython.core.display.Latex object>"
      ]
     },
     "metadata": {},
     "output_type": "display_data"
    }
   ],
   "source": [
    "%%render\n",
    "# long\n",
    "beta = 0.5#(0.5 for sustained or cyclic loading and 1 for single short-term load)\n",
    "xi = 1 - beta*(M_cr/M)**2\n",
    "k_av = xi*k_cr+(1-xi)*k_uc#/mm"
   ]
  },
  {
   "cell_type": "markdown",
   "id": "ebcc8f22",
   "metadata": {},
   "source": [
    "### Shrinkage curvature - Cracked section"
   ]
  },
  {
   "cell_type": "code",
   "execution_count": 12,
   "id": "f2de4a43",
   "metadata": {},
   "outputs": [
    {
     "data": {
      "text/latex": [
       "\\[\n",
       "\\begin{aligned}\n",
       "\\epsilon_{cs} &= 470 \\cdot \\left( 10 \\right) ^{ -6 } &= 4.700 \\times 10 ^ {-4 }  \n",
       "\\\\[10pt]\n",
       "S &= A_{s} \\cdot \\left( d - x_{cr} \\right)  = 11760 \\cdot \\left( 500 - 196.3 \\right) &= 3571511.881  \n",
       "\\\\[10pt]\n",
       "k_{cscr} &= \\epsilon_{cs} \\cdot \\alpha_{e} \\cdot \\frac{ S }{ I_{cr} }  = 4.700 \\times 10 ^ {-4 } \\cdot 21.578 \\cdot \\frac{ 3571511.881 }{ 33490917617.183 } &= 1.082 \\times 10 ^ {-6 } \\; \\;\\textrm{(/mm)}\n",
       "\\end{aligned}\n",
       "\\]"
      ],
      "text/plain": [
       "<IPython.core.display.Latex object>"
      ]
     },
     "metadata": {},
     "output_type": "display_data"
    }
   ],
   "source": [
    "%%render\n",
    "epsilon_cs = 470*10**-6\n",
    "S = A_s*(d-x_cr)\n",
    "k_cscr = epsilon_cs*alpha_e*S/I_cr#/mm"
   ]
  },
  {
   "cell_type": "markdown",
   "id": "8d4a3ee1",
   "metadata": {},
   "source": [
    "### Shrinkage curvature - Uncracked section"
   ]
  },
  {
   "cell_type": "code",
   "execution_count": 13,
   "id": "030610f3",
   "metadata": {},
   "outputs": [
    {
     "data": {
      "text/latex": [
       "\\[\n",
       "\\begin{aligned}\n",
       "S &= A_{s} \\cdot \\left( d - x_{uc} \\right)  = 11760 \\cdot \\left( 500 - 319.125 \\right) &= 2127093.878  \n",
       "\\\\[10pt]\n",
       "k_{csuc} &= \\epsilon_{cs} \\cdot \\alpha_{e} \\cdot \\frac{ S }{ I_{uc} }  = 4.700 \\times 10 ^ {-4 } \\cdot 21.578 \\cdot \\frac{ 2127093.878 }{ 80302034497.374 } &= 2.686 \\times 10 ^ {-7 } \\; \\;\\textrm{(/mm)}\n",
       "\\end{aligned}\n",
       "\\]"
      ],
      "text/plain": [
       "<IPython.core.display.Latex object>"
      ]
     },
     "metadata": {},
     "output_type": "display_data"
    }
   ],
   "source": [
    "%%render\n",
    "S = A_s*(d-x_uc)\n",
    "k_csuc = epsilon_cs*alpha_e*S/I_uc#/mm"
   ]
  },
  {
   "cell_type": "markdown",
   "id": "24454845",
   "metadata": {},
   "source": [
    "### Shrinkage average curvature"
   ]
  },
  {
   "cell_type": "code",
   "execution_count": 14,
   "id": "25035fc8",
   "metadata": {},
   "outputs": [
    {
     "data": {
      "text/latex": [
       "\\[\n",
       "\\begin{aligned}\n",
       "k_{csav} &= \\xi \\cdot k_{cscr} + \\left( 1 - \\xi \\right) \\cdot k_{csuc} \\\\&= -8.199 \\times 10 ^ {-3 } \\cdot 1.082 \\times 10 ^ {-6 } + \\left( 1 - -8.199 \\times 10 ^ {-3 } \\right) \\cdot 2.686 \\times 10 ^ {-7 } \\\\&= 2.620 \\times 10 ^ {-7 } \\; \\;\\textrm{(/mm)}\\\\\n",
       "\\end{aligned}\n",
       "\\]"
      ],
      "text/plain": [
       "<IPython.core.display.Latex object>"
      ]
     },
     "metadata": {},
     "output_type": "display_data"
    }
   ],
   "source": [
    "%%render\n",
    "k_csav = xi*k_cscr+(1-xi)*k_csuc#/mm"
   ]
  },
  {
   "cell_type": "markdown",
   "id": "086e806b",
   "metadata": {},
   "source": [
    "## Deflection"
   ]
  },
  {
   "cell_type": "code",
   "execution_count": 15,
   "id": "7148cefd",
   "metadata": {},
   "outputs": [
    {
     "data": {
      "text/latex": [
       "\\[\n",
       "\\begin{aligned}\n",
       "k_{total} &= k_{av} + k_{csav}  = 1.004 \\times 10 ^ {-6 } + 2.620 \\times 10 ^ {-7 } &= 1.266 \\times 10 ^ {-6 } \\; \\;\\textrm{(/mm)}\n",
       "\\\\[10pt]\n",
       "\\Delta &= \\frac{ 1 }{ 16 } \\cdot \\left( L \\right) ^{ 2 } \\cdot k_{total}  = \\frac{ 1 }{ 16 } \\cdot \\left( 6300 \\right) ^{ 2 } \\cdot 1.266 \\times 10 ^ {-6 } &= 3.14 \\; \\;\\textrm{(mm)}\n",
       "\\\\[10pt]\n",
       "\\Delta_{limit} &= \\frac{ L }{ 1600 }  = \\frac{ 6300 }{ 1600 } &= 3.938 \\; \\;\\textrm{(mm from HS2 standards, limiting 1m/s2 maximum vertical acceleration)}\n",
       "\\end{aligned}\n",
       "\\]"
      ],
      "text/plain": [
       "<IPython.core.display.Latex object>"
      ]
     },
     "metadata": {},
     "output_type": "display_data"
    }
   ],
   "source": [
    "%%render\n",
    "k_total = k_av+k_csav#/mm\n",
    "Delta = 1/16*L**2*k_total #mm\n",
    "Delta_limit = L/1600 #mm from HS2 standards, limiting 1m/s2 maximum vertical acceleration"
   ]
  }
 ],
 "metadata": {
  "kernelspec": {
   "display_name": "Python 3",
   "language": "python",
   "name": "python3"
  },
  "language_info": {
   "codemirror_mode": {
    "name": "ipython",
    "version": 3
   },
   "file_extension": ".py",
   "mimetype": "text/x-python",
   "name": "python",
   "nbconvert_exporter": "python",
   "pygments_lexer": "ipython3",
   "version": "3.9.2"
  }
 },
 "nbformat": 4,
 "nbformat_minor": 5
}
